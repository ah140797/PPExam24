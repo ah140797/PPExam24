{
 "cells": [
  {
   "cell_type": "code",
   "execution_count": 193,
   "metadata": {},
   "outputs": [],
   "source": [
    "import numpy as np\n",
    "import pandas as pd\n",
    "import arviz as az\n",
    "import pymc as pm\n",
    "import matplotlib.pyplot as plt\n",
    "import xarray as xr"
   ]
  },
  {
   "cell_type": "code",
   "execution_count": 246,
   "metadata": {},
   "outputs": [],
   "source": [
    "df = pd.read_csv('dataset.csv')\n",
    "# transform commits to log scale\n",
    "df[\"language\"], languages = pd.factorize(df[\"language\"])\n",
    "df[\"project_type\"], project_types = pd.factorize(df[\"project_type\"])"
   ]
  },
  {
   "cell_type": "markdown",
   "metadata": {},
   "source": [
    "## TODO\n",
    "\n",
    "- POISSON??\n",
    "- Make DAG Fork \n",
    "- Prior Predictive Checks\n",
    "- Comment On Checks\n",
    "- Posterior Predictive Checks\n",
    "- Plots, "
   ]
  },
  {
   "cell_type": "code",
   "execution_count": 247,
   "metadata": {},
   "outputs": [
    {
     "data": {
      "text/html": [
       "<div>\n",
       "<style scoped>\n",
       "    .dataframe tbody tr th:only-of-type {\n",
       "        vertical-align: middle;\n",
       "    }\n",
       "\n",
       "    .dataframe tbody tr th {\n",
       "        vertical-align: top;\n",
       "    }\n",
       "\n",
       "    .dataframe thead th {\n",
       "        text-align: right;\n",
       "    }\n",
       "</style>\n",
       "<table border=\"1\" class=\"dataframe\">\n",
       "  <thead>\n",
       "    <tr style=\"text-align: right;\">\n",
       "      <th></th>\n",
       "      <th>project</th>\n",
       "      <th>language</th>\n",
       "      <th>commits</th>\n",
       "      <th>insertions</th>\n",
       "      <th>age</th>\n",
       "      <th>bugs</th>\n",
       "      <th>project_type</th>\n",
       "      <th>devs</th>\n",
       "      <th>p</th>\n",
       "    </tr>\n",
       "  </thead>\n",
       "  <tbody>\n",
       "    <tr>\n",
       "      <th>0</th>\n",
       "      <td>4clojure</td>\n",
       "      <td>Clojure</td>\n",
       "      <td>629</td>\n",
       "      <td>9180</td>\n",
       "      <td>774</td>\n",
       "      <td>128</td>\n",
       "      <td>Application</td>\n",
       "      <td>21</td>\n",
       "      <td>0.203498</td>\n",
       "    </tr>\n",
       "    <tr>\n",
       "      <th>1</th>\n",
       "      <td>4clojure</td>\n",
       "      <td>Javascript</td>\n",
       "      <td>75</td>\n",
       "      <td>39240</td>\n",
       "      <td>509</td>\n",
       "      <td>29</td>\n",
       "      <td>Application</td>\n",
       "      <td>10</td>\n",
       "      <td>0.386667</td>\n",
       "    </tr>\n",
       "    <tr>\n",
       "      <th>2</th>\n",
       "      <td>AFIncrementalStore</td>\n",
       "      <td>Objective-C</td>\n",
       "      <td>196</td>\n",
       "      <td>5624</td>\n",
       "      <td>362</td>\n",
       "      <td>74</td>\n",
       "      <td>Library</td>\n",
       "      <td>24</td>\n",
       "      <td>0.377551</td>\n",
       "    </tr>\n",
       "    <tr>\n",
       "      <th>3</th>\n",
       "      <td>AFNetworking</td>\n",
       "      <td>Objective-C</td>\n",
       "      <td>952</td>\n",
       "      <td>50099</td>\n",
       "      <td>962</td>\n",
       "      <td>403</td>\n",
       "      <td>Framework</td>\n",
       "      <td>128</td>\n",
       "      <td>0.423319</td>\n",
       "    </tr>\n",
       "    <tr>\n",
       "      <th>4</th>\n",
       "      <td>ActionBar-PullToRefresh</td>\n",
       "      <td>Java</td>\n",
       "      <td>213</td>\n",
       "      <td>14657</td>\n",
       "      <td>192</td>\n",
       "      <td>68</td>\n",
       "      <td>Library</td>\n",
       "      <td>5</td>\n",
       "      <td>0.319249</td>\n",
       "    </tr>\n",
       "  </tbody>\n",
       "</table>\n",
       "</div>"
      ],
      "text/plain": [
       "                   project     language  commits  insertions  age  bugs  \\\n",
       "0                 4clojure      Clojure      629        9180  774   128   \n",
       "1                 4clojure   Javascript       75       39240  509    29   \n",
       "2       AFIncrementalStore  Objective-C      196        5624  362    74   \n",
       "3             AFNetworking  Objective-C      952       50099  962   403   \n",
       "4  ActionBar-PullToRefresh         Java      213       14657  192    68   \n",
       "\n",
       "  project_type  devs         p  \n",
       "0  Application    21  0.203498  \n",
       "1  Application    10  0.386667  \n",
       "2      Library    24  0.377551  \n",
       "3    Framework   128  0.423319  \n",
       "4      Library     5  0.319249  "
      ]
     },
     "execution_count": 247,
     "metadata": {},
     "output_type": "execute_result"
    }
   ],
   "source": [
    "df.head()"
   ]
  },
  {
   "cell_type": "code",
   "execution_count": 292,
   "metadata": {},
   "outputs": [],
   "source": [
    "\n",
    "def language_and_betas(df):\n",
    "      # specify coords:\n",
    "      with pm.Model() as model:\n",
    "\n",
    "            alpha = pm.Normal(\"alpha\", mu=0, sigma=1) # 7\n",
    "            \n",
    "            beta_project_type = pm.Normal(\"beta_project_type\", mu=0, sigma=1, shape = len(np.unique(df.project_type)))\n",
    "            \n",
    "            beta_language = pm.Normal(\"beta_language\", mu=0, sigma=1, shape = len(np.unique(df.language)))\n",
    "            \n",
    "            language_ids = pm.Data(\"language_ids\", df.language.values, mutable=True)\n",
    "\n",
    "            p = pm.Deterministic(\"p\", pm.math.invlogit(alpha + beta_project_type[df.project_type]*df.project_type + beta_language[df.language]*df.language))\n",
    "            \n",
    "            # likelihood\n",
    "            y_i = pm.Binomial(\"y\", n=df.commits, p=p, observed=df.bugs)\n",
    "            trace = pm.sample(2000, tune=1000, idata_kwargs={'log_likelihood': True}, chains=4)\n",
    "\n",
    "      return trace, model\n",
    " \n",
    "\n",
    "def baseline_alphas_per_language(df):\n",
    "      with pm.Model() as model:\n",
    "\n",
    "            alpha = pm.Normal(\"alpha\", mu=0, sigma=1)\n",
    "            beta_language = pm.Normal(\"beta_language\", mu=0, sigma=1, shape = len(np.unique(df.language)))\n",
    "            \n",
    "            language_ids = pm.Data(\"language_ids\", df.language.values, mutable=True)\n",
    "      \n",
    "            p = pm.Deterministic(\"p\", pm.math.invlogit(alpha + beta_language[df.language]))\n",
    "\n",
    "            # likelihood\n",
    "            y_i = pm.Binomial(\"y\", n=df.commits, p=p, observed=df.bugs)\n",
    "            trace = pm.sample(2000, tune=1000, idata_kwargs={'log_likelihood': True}, chains=4)\n",
    "\n",
    "      return trace, model"
   ]
  },
  {
   "cell_type": "code",
   "execution_count": 293,
   "metadata": {},
   "outputs": [
    {
     "name": "stderr",
     "output_type": "stream",
     "text": [
      "Auto-assigning NUTS sampler...\n",
      "Initializing NUTS using jitter+adapt_diag...\n",
      "Multiprocess sampling (4 chains in 4 jobs)\n",
      "NUTS: [alpha, beta_project_type, beta_language]\n"
     ]
    },
    {
     "data": {
      "text/html": [
       "\n",
       "<style>\n",
       "    /* Turns off some styling */\n",
       "    progress {\n",
       "        /* gets rid of default border in Firefox and Opera. */\n",
       "        border: none;\n",
       "        /* Needs to be in here for Safari polyfill so background images work as expected. */\n",
       "        background-size: auto;\n",
       "    }\n",
       "    progress:not([value]), progress:not([value])::-webkit-progress-bar {\n",
       "        background: repeating-linear-gradient(45deg, #7e7e7e, #7e7e7e 10px, #5c5c5c 10px, #5c5c5c 20px);\n",
       "    }\n",
       "    .progress-bar-interrupted, .progress-bar-interrupted::-webkit-progress-bar {\n",
       "        background: #F44336;\n",
       "    }\n",
       "</style>\n"
      ],
      "text/plain": [
       "<IPython.core.display.HTML object>"
      ]
     },
     "metadata": {},
     "output_type": "display_data"
    },
    {
     "data": {
      "text/html": [
       "\n",
       "    <div>\n",
       "      <progress value='12000' class='' max='12000' style='width:300px; height:20px; vertical-align: middle;'></progress>\n",
       "      100.00% [12000/12000 00:14&lt;00:00 Sampling 4 chains, 0 divergences]\n",
       "    </div>\n",
       "    "
      ],
      "text/plain": [
       "<IPython.core.display.HTML object>"
      ]
     },
     "metadata": {},
     "output_type": "display_data"
    },
    {
     "name": "stderr",
     "output_type": "stream",
     "text": [
      "Sampling 4 chains for 1_000 tune and 2_000 draw iterations (4_000 + 8_000 draws total) took 15 seconds.\n",
      "Auto-assigning NUTS sampler...\n",
      "Initializing NUTS using jitter+adapt_diag...\n",
      "Multiprocess sampling (4 chains in 4 jobs)\n",
      "NUTS: [alpha, beta_language]\n"
     ]
    },
    {
     "data": {
      "text/html": [
       "\n",
       "<style>\n",
       "    /* Turns off some styling */\n",
       "    progress {\n",
       "        /* gets rid of default border in Firefox and Opera. */\n",
       "        border: none;\n",
       "        /* Needs to be in here for Safari polyfill so background images work as expected. */\n",
       "        background-size: auto;\n",
       "    }\n",
       "    progress:not([value]), progress:not([value])::-webkit-progress-bar {\n",
       "        background: repeating-linear-gradient(45deg, #7e7e7e, #7e7e7e 10px, #5c5c5c 10px, #5c5c5c 20px);\n",
       "    }\n",
       "    .progress-bar-interrupted, .progress-bar-interrupted::-webkit-progress-bar {\n",
       "        background: #F44336;\n",
       "    }\n",
       "</style>\n"
      ],
      "text/plain": [
       "<IPython.core.display.HTML object>"
      ]
     },
     "metadata": {},
     "output_type": "display_data"
    },
    {
     "data": {
      "text/html": [
       "\n",
       "    <div>\n",
       "      <progress value='12000' class='' max='12000' style='width:300px; height:20px; vertical-align: middle;'></progress>\n",
       "      100.00% [12000/12000 00:27&lt;00:00 Sampling 4 chains, 0 divergences]\n",
       "    </div>\n",
       "    "
      ],
      "text/plain": [
       "<IPython.core.display.HTML object>"
      ]
     },
     "metadata": {},
     "output_type": "display_data"
    },
    {
     "name": "stderr",
     "output_type": "stream",
     "text": [
      "Sampling 4 chains for 1_000 tune and 2_000 draw iterations (4_000 + 8_000 draws total) took 28 seconds.\n",
      "The rhat statistic is larger than 1.01 for some parameters. This indicates problems during sampling. See https://arxiv.org/abs/1903.08008 for details\n",
      "The effective sample size per chain is smaller than 100 for some parameters.  A higher number is needed for reliable rhat and ess computation. See https://arxiv.org/abs/1903.08008 for details\n"
     ]
    }
   ],
   "source": [
    "BL_BPT_ = language_and_betas(df)\n",
    "BL = baseline_alphas_per_language(df)"
   ]
  },
  {
   "cell_type": "markdown",
   "metadata": {},
   "source": [
    "# inspection of model"
   ]
  },
  {
   "cell_type": "code",
   "execution_count": 294,
   "metadata": {},
   "outputs": [
    {
     "data": {
      "text/html": [
       "<div>\n",
       "<style scoped>\n",
       "    .dataframe tbody tr th:only-of-type {\n",
       "        vertical-align: middle;\n",
       "    }\n",
       "\n",
       "    .dataframe tbody tr th {\n",
       "        vertical-align: top;\n",
       "    }\n",
       "\n",
       "    .dataframe thead th {\n",
       "        text-align: right;\n",
       "    }\n",
       "</style>\n",
       "<table border=\"1\" class=\"dataframe\">\n",
       "  <thead>\n",
       "    <tr style=\"text-align: right;\">\n",
       "      <th></th>\n",
       "      <th>mean</th>\n",
       "      <th>sd</th>\n",
       "      <th>hdi_3%</th>\n",
       "      <th>hdi_97%</th>\n",
       "      <th>mcse_mean</th>\n",
       "      <th>mcse_sd</th>\n",
       "      <th>ess_bulk</th>\n",
       "      <th>ess_tail</th>\n",
       "      <th>r_hat</th>\n",
       "    </tr>\n",
       "  </thead>\n",
       "  <tbody>\n",
       "    <tr>\n",
       "      <th>beta_project_type[0]</th>\n",
       "      <td>0.019</td>\n",
       "      <td>0.989</td>\n",
       "      <td>-1.895</td>\n",
       "      <td>1.824</td>\n",
       "      <td>0.012</td>\n",
       "      <td>0.012</td>\n",
       "      <td>6467.0</td>\n",
       "      <td>5498.0</td>\n",
       "      <td>1.0</td>\n",
       "    </tr>\n",
       "    <tr>\n",
       "      <th>beta_project_type[1]</th>\n",
       "      <td>0.178</td>\n",
       "      <td>0.007</td>\n",
       "      <td>0.165</td>\n",
       "      <td>0.191</td>\n",
       "      <td>0.000</td>\n",
       "      <td>0.000</td>\n",
       "      <td>3666.0</td>\n",
       "      <td>4588.0</td>\n",
       "      <td>1.0</td>\n",
       "    </tr>\n",
       "    <tr>\n",
       "      <th>beta_project_type[2]</th>\n",
       "      <td>0.146</td>\n",
       "      <td>0.003</td>\n",
       "      <td>0.140</td>\n",
       "      <td>0.152</td>\n",
       "      <td>0.000</td>\n",
       "      <td>0.000</td>\n",
       "      <td>3580.0</td>\n",
       "      <td>5086.0</td>\n",
       "      <td>1.0</td>\n",
       "    </tr>\n",
       "    <tr>\n",
       "      <th>beta_project_type[3]</th>\n",
       "      <td>0.039</td>\n",
       "      <td>0.003</td>\n",
       "      <td>0.033</td>\n",
       "      <td>0.045</td>\n",
       "      <td>0.000</td>\n",
       "      <td>0.000</td>\n",
       "      <td>4580.0</td>\n",
       "      <td>5492.0</td>\n",
       "      <td>1.0</td>\n",
       "    </tr>\n",
       "    <tr>\n",
       "      <th>beta_project_type[4]</th>\n",
       "      <td>0.076</td>\n",
       "      <td>0.002</td>\n",
       "      <td>0.072</td>\n",
       "      <td>0.080</td>\n",
       "      <td>0.000</td>\n",
       "      <td>0.000</td>\n",
       "      <td>4354.0</td>\n",
       "      <td>5126.0</td>\n",
       "      <td>1.0</td>\n",
       "    </tr>\n",
       "    <tr>\n",
       "      <th>beta_project_type[5]</th>\n",
       "      <td>0.050</td>\n",
       "      <td>0.002</td>\n",
       "      <td>0.047</td>\n",
       "      <td>0.053</td>\n",
       "      <td>0.000</td>\n",
       "      <td>0.000</td>\n",
       "      <td>4081.0</td>\n",
       "      <td>4863.0</td>\n",
       "      <td>1.0</td>\n",
       "    </tr>\n",
       "    <tr>\n",
       "      <th>beta_project_type[6]</th>\n",
       "      <td>0.017</td>\n",
       "      <td>0.001</td>\n",
       "      <td>0.014</td>\n",
       "      <td>0.019</td>\n",
       "      <td>0.000</td>\n",
       "      <td>0.000</td>\n",
       "      <td>3639.0</td>\n",
       "      <td>5176.0</td>\n",
       "      <td>1.0</td>\n",
       "    </tr>\n",
       "  </tbody>\n",
       "</table>\n",
       "</div>"
      ],
      "text/plain": [
       "                       mean     sd  hdi_3%  hdi_97%  mcse_mean  mcse_sd  \\\n",
       "beta_project_type[0]  0.019  0.989  -1.895    1.824      0.012    0.012   \n",
       "beta_project_type[1]  0.178  0.007   0.165    0.191      0.000    0.000   \n",
       "beta_project_type[2]  0.146  0.003   0.140    0.152      0.000    0.000   \n",
       "beta_project_type[3]  0.039  0.003   0.033    0.045      0.000    0.000   \n",
       "beta_project_type[4]  0.076  0.002   0.072    0.080      0.000    0.000   \n",
       "beta_project_type[5]  0.050  0.002   0.047    0.053      0.000    0.000   \n",
       "beta_project_type[6]  0.017  0.001   0.014    0.019      0.000    0.000   \n",
       "\n",
       "                      ess_bulk  ess_tail  r_hat  \n",
       "beta_project_type[0]    6467.0    5498.0    1.0  \n",
       "beta_project_type[1]    3666.0    4588.0    1.0  \n",
       "beta_project_type[2]    3580.0    5086.0    1.0  \n",
       "beta_project_type[3]    4580.0    5492.0    1.0  \n",
       "beta_project_type[4]    4354.0    5126.0    1.0  \n",
       "beta_project_type[5]    4081.0    4863.0    1.0  \n",
       "beta_project_type[6]    3639.0    5176.0    1.0  "
      ]
     },
     "execution_count": 294,
     "metadata": {},
     "output_type": "execute_result"
    }
   ],
   "source": [
    "pm.summary(BL_BPT_[0], var_names=[\"beta_project_type\"])"
   ]
  },
  {
   "cell_type": "code",
   "execution_count": 296,
   "metadata": {},
   "outputs": [
    {
     "data": {
      "image/svg+xml": [
       "<?xml version=\"1.0\" encoding=\"UTF-8\" standalone=\"no\"?>\n",
       "<!DOCTYPE svg PUBLIC \"-//W3C//DTD SVG 1.1//EN\"\n",
       " \"http://www.w3.org/Graphics/SVG/1.1/DTD/svg11.dtd\">\n",
       "<!-- Generated by graphviz version 10.0.1 (20240210.2158)\n",
       " -->\n",
       "<!-- Pages: 1 -->\n",
       "<svg width=\"440pt\" height=\"369pt\"\n",
       " viewBox=\"0.00 0.00 440.01 369.13\" xmlns=\"http://www.w3.org/2000/svg\" xmlns:xlink=\"http://www.w3.org/1999/xlink\">\n",
       "<g id=\"graph0\" class=\"graph\" transform=\"scale(1 1) rotate(0) translate(4 365.13)\">\n",
       "<polygon fill=\"white\" stroke=\"none\" points=\"-4,4 -4,-365.13 436.01,-365.13 436.01,4 -4,4\"/>\n",
       "<g id=\"clust1\" class=\"cluster\">\n",
       "<title>cluster7</title>\n",
       "<path fill=\"none\" stroke=\"black\" d=\"M104.01,-231.32C104.01,-231.32 256.01,-231.32 256.01,-231.32 262.01,-231.32 268.01,-237.32 268.01,-243.32 268.01,-243.32 268.01,-341.13 268.01,-341.13 268.01,-347.13 262.01,-353.13 256.01,-353.13 256.01,-353.13 104.01,-353.13 104.01,-353.13 98.01,-353.13 92.01,-347.13 92.01,-341.13 92.01,-341.13 92.01,-243.32 92.01,-243.32 92.01,-237.32 98.01,-231.32 104.01,-231.32\"/>\n",
       "<text text-anchor=\"middle\" x=\"256.64\" y=\"-238.52\" font-family=\"Times,serif\" font-size=\"14.00\">7</text>\n",
       "</g>\n",
       "<g id=\"clust2\" class=\"cluster\">\n",
       "<title>cluster17</title>\n",
       "<path fill=\"none\" stroke=\"black\" d=\"M288.01,-231.32C288.01,-231.32 412.01,-231.32 412.01,-231.32 418.01,-231.32 424.01,-237.32 424.01,-243.32 424.01,-243.32 424.01,-341.13 424.01,-341.13 424.01,-347.13 418.01,-353.13 412.01,-353.13 412.01,-353.13 288.01,-353.13 288.01,-353.13 282.01,-353.13 276.01,-347.13 276.01,-341.13 276.01,-341.13 276.01,-243.32 276.01,-243.32 276.01,-237.32 282.01,-231.32 288.01,-231.32\"/>\n",
       "<text text-anchor=\"middle\" x=\"409.26\" y=\"-238.52\" font-family=\"Times,serif\" font-size=\"14.00\">17</text>\n",
       "</g>\n",
       "<g id=\"clust3\" class=\"cluster\">\n",
       "<title>cluster1127</title>\n",
       "<path fill=\"none\" stroke=\"black\" d=\"M33.01,-8C33.01,-8 221.01,-8 221.01,-8 227.01,-8 233.01,-14 233.01,-20 233.01,-20 233.01,-211.32 233.01,-211.32 233.01,-217.32 227.01,-223.32 221.01,-223.32 221.01,-223.32 33.01,-223.32 33.01,-223.32 27.01,-223.32 21.01,-217.32 21.01,-211.32 21.01,-211.32 21.01,-20 21.01,-20 21.01,-14 27.01,-8 33.01,-8\"/>\n",
       "<text text-anchor=\"middle\" x=\"211.51\" y=\"-15.2\" font-family=\"Times,serif\" font-size=\"14.00\">1127</text>\n",
       "</g>\n",
       "<!-- alpha -->\n",
       "<g id=\"node1\" class=\"node\">\n",
       "<title>alpha</title>\n",
       "<ellipse fill=\"none\" stroke=\"black\" cx=\"41.01\" cy=\"-304.48\" rx=\"41.01\" ry=\"40.66\"/>\n",
       "<text text-anchor=\"middle\" x=\"41.01\" y=\"-315.93\" font-family=\"Times,serif\" font-size=\"14.00\">alpha</text>\n",
       "<text text-anchor=\"middle\" x=\"41.01\" y=\"-299.43\" font-family=\"Times,serif\" font-size=\"14.00\">~</text>\n",
       "<text text-anchor=\"middle\" x=\"41.01\" y=\"-282.93\" font-family=\"Times,serif\" font-size=\"14.00\">Normal</text>\n",
       "</g>\n",
       "<!-- p -->\n",
       "<g id=\"node6\" class=\"node\">\n",
       "<title>p</title>\n",
       "<polygon fill=\"none\" stroke=\"black\" points=\"225.14,-215.32 134.89,-215.32 134.89,-157.82 225.14,-157.82 225.14,-215.32\"/>\n",
       "<text text-anchor=\"middle\" x=\"180.01\" y=\"-198.02\" font-family=\"Times,serif\" font-size=\"14.00\">p</text>\n",
       "<text text-anchor=\"middle\" x=\"180.01\" y=\"-181.52\" font-family=\"Times,serif\" font-size=\"14.00\">~</text>\n",
       "<text text-anchor=\"middle\" x=\"180.01\" y=\"-165.02\" font-family=\"Times,serif\" font-size=\"14.00\">Deterministic</text>\n",
       "</g>\n",
       "<!-- alpha&#45;&gt;p -->\n",
       "<g id=\"edge1\" class=\"edge\">\n",
       "<title>alpha&#45;&gt;p</title>\n",
       "<path fill=\"none\" stroke=\"black\" d=\"M57.26,-267.03C64.83,-253.92 75.06,-240.19 88.01,-231.32 102.25,-221.57 110.09,-229.98 126.01,-223.32 127.76,-222.59 129.51,-221.8 131.26,-220.96\"/>\n",
       "<polygon fill=\"black\" stroke=\"black\" points=\"132.62,-224.2 139.82,-216.43 129.35,-218.01 132.62,-224.2\"/>\n",
       "</g>\n",
       "<!-- beta_project_type -->\n",
       "<g id=\"node2\" class=\"node\">\n",
       "<title>beta_project_type</title>\n",
       "<ellipse fill=\"none\" stroke=\"black\" cx=\"180.01\" cy=\"-304.48\" rx=\"79.73\" ry=\"40.66\"/>\n",
       "<text text-anchor=\"middle\" x=\"180.01\" y=\"-315.93\" font-family=\"Times,serif\" font-size=\"14.00\">beta_project_type</text>\n",
       "<text text-anchor=\"middle\" x=\"180.01\" y=\"-299.43\" font-family=\"Times,serif\" font-size=\"14.00\">~</text>\n",
       "<text text-anchor=\"middle\" x=\"180.01\" y=\"-282.93\" font-family=\"Times,serif\" font-size=\"14.00\">Normal</text>\n",
       "</g>\n",
       "<!-- beta_project_type&#45;&gt;p -->\n",
       "<g id=\"edge2\" class=\"edge\">\n",
       "<title>beta_project_type&#45;&gt;p</title>\n",
       "<path fill=\"none\" stroke=\"black\" d=\"M180.01,-263.59C180.01,-251.7 180.01,-238.69 180.01,-226.84\"/>\n",
       "<polygon fill=\"black\" stroke=\"black\" points=\"183.51,-226.98 180.01,-216.98 176.51,-226.98 183.51,-226.98\"/>\n",
       "</g>\n",
       "<!-- beta_language -->\n",
       "<g id=\"node3\" class=\"node\">\n",
       "<title>beta_language</title>\n",
       "<ellipse fill=\"none\" stroke=\"black\" cx=\"350.01\" cy=\"-304.48\" rx=\"66.47\" ry=\"40.66\"/>\n",
       "<text text-anchor=\"middle\" x=\"350.01\" y=\"-315.93\" font-family=\"Times,serif\" font-size=\"14.00\">beta_language</text>\n",
       "<text text-anchor=\"middle\" x=\"350.01\" y=\"-299.43\" font-family=\"Times,serif\" font-size=\"14.00\">~</text>\n",
       "<text text-anchor=\"middle\" x=\"350.01\" y=\"-282.93\" font-family=\"Times,serif\" font-size=\"14.00\">Normal</text>\n",
       "</g>\n",
       "<!-- beta_language&#45;&gt;p -->\n",
       "<g id=\"edge3\" class=\"edge\">\n",
       "<title>beta_language&#45;&gt;p</title>\n",
       "<path fill=\"none\" stroke=\"black\" d=\"M316.97,-268.74C303.75,-256 287.9,-242.07 272.01,-231.32 260.8,-223.73 248.07,-216.76 235.72,-210.73\"/>\n",
       "<polygon fill=\"black\" stroke=\"black\" points=\"237.39,-207.65 226.86,-206.53 234.4,-213.97 237.39,-207.65\"/>\n",
       "</g>\n",
       "<!-- y -->\n",
       "<g id=\"node4\" class=\"node\">\n",
       "<title>y</title>\n",
       "<ellipse fill=\"lightgrey\" stroke=\"black\" cx=\"178.01\" cy=\"-81.16\" rx=\"47.38\" ry=\"40.66\"/>\n",
       "<text text-anchor=\"middle\" x=\"178.01\" y=\"-92.61\" font-family=\"Times,serif\" font-size=\"14.00\">y</text>\n",
       "<text text-anchor=\"middle\" x=\"178.01\" y=\"-76.11\" font-family=\"Times,serif\" font-size=\"14.00\">~</text>\n",
       "<text text-anchor=\"middle\" x=\"178.01\" y=\"-59.61\" font-family=\"Times,serif\" font-size=\"14.00\">Binomial</text>\n",
       "</g>\n",
       "<!-- language_ids -->\n",
       "<g id=\"node5\" class=\"node\">\n",
       "<title>language_ids</title>\n",
       "<path fill=\"lightgrey\" stroke=\"black\" d=\"M104.64,-215.32C104.64,-215.32 41.39,-215.32 41.39,-215.32 35.39,-215.32 29.39,-209.32 29.39,-203.32 29.39,-203.32 29.39,-169.82 29.39,-169.82 29.39,-163.82 35.39,-157.82 41.39,-157.82 41.39,-157.82 104.64,-157.82 104.64,-157.82 110.64,-157.82 116.64,-163.82 116.64,-169.82 116.64,-169.82 116.64,-203.32 116.64,-203.32 116.64,-209.32 110.64,-215.32 104.64,-215.32\"/>\n",
       "<text text-anchor=\"middle\" x=\"73.01\" y=\"-198.02\" font-family=\"Times,serif\" font-size=\"14.00\">language_ids</text>\n",
       "<text text-anchor=\"middle\" x=\"73.01\" y=\"-181.52\" font-family=\"Times,serif\" font-size=\"14.00\">~</text>\n",
       "<text text-anchor=\"middle\" x=\"73.01\" y=\"-165.02\" font-family=\"Times,serif\" font-size=\"14.00\">MutableData</text>\n",
       "</g>\n",
       "<!-- p&#45;&gt;y -->\n",
       "<g id=\"edge4\" class=\"edge\">\n",
       "<title>p&#45;&gt;y</title>\n",
       "<path fill=\"none\" stroke=\"black\" d=\"M179.47,-157.58C179.33,-150.1 179.17,-141.77 179,-133.45\"/>\n",
       "<polygon fill=\"black\" stroke=\"black\" points=\"182.51,-133.64 178.82,-123.71 175.51,-133.78 182.51,-133.64\"/>\n",
       "</g>\n",
       "</g>\n",
       "</svg>\n"
      ],
      "text/plain": [
       "<graphviz.graphs.Digraph at 0x380189540>"
      ]
     },
     "execution_count": 296,
     "metadata": {},
     "output_type": "execute_result"
    }
   ],
   "source": [
    "pm.model_to_graphviz(model=BL_BPT_[1])"
   ]
  },
  {
   "cell_type": "code",
   "execution_count": 295,
   "metadata": {},
   "outputs": [
    {
     "data": {
      "image/png": "[encoded data removed]",
      "text/plain": [
       "<Figure size 1200x800 with 1 Axes>"
      ]
     },
     "metadata": {},
     "output_type": "display_data"
    }
   ],
   "source": [
    "az.plot_forest([BL_BPT_[0],BL[0]], model_names=[\"Language and Project Type\",\"Language\"], var_names=[\"beta_language\"], combined=True, figsize=(12, 8));"
   ]
  },
  {
   "cell_type": "markdown",
   "metadata": {},
   "source": [
    "## FORK!!!!!!!\n"
   ]
  },
  {
   "cell_type": "markdown",
   "metadata": {},
   "source": [
    "## Inference"
   ]
  },
  {
   "cell_type": "code",
   "execution_count": null,
   "metadata": {},
   "outputs": [],
   "source": []
  }
 ],
 "metadata": {
  "kernelspec": {
   "display_name": "prob_prog",
   "language": "python",
   "name": "python3"
  },
  "language_info": {
   "codemirror_mode": {
    "name": "ipython",
    "version": 3
   },
   "file_extension": ".py",
   "mimetype": "text/x-python",
   "name": "python",
   "nbconvert_exporter": "python",
   "pygments_lexer": "ipython3",
   "version": "3.10.4"
  }
 },
 "nbformat": 4,
 "nbformat_minor": 2
}
