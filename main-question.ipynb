{
 "cells": [
  {
   "cell_type": "markdown",
   "id": "2859c9c5-fa76-426d-9c09-45bf5ffcc38c",
   "metadata": {},
   "source": [
    "# Code Quality in Different Programming Languages\n",
    "*Probabilistic Programming 2024 Exam by Raúl Pardo and Andrzej Wąsowski*<br/>\n",
    "*version 1.0.0 2024-05-01 10:00*"
   ]
  },
  {
   "cell_type": "markdown",
   "id": "fb9280d4-1181-420c-aaf1-dd837f604f25",
   "metadata": {},
   "source": [
    "*Does the programming language in which a program is written affect software quality?* This is the driving research question you will study in this exam. In this context, we quantify software quality as number of bugs; the more bugs the lower the quality. In the software engineering world, there are many beliefs (or stereotypes) regarding the propensity to introduce bugs depending on the programming language in which the program is written. For instance, a common belief is that functional languages help programmers to not  introduce bugs. Furthermore, there exist other factors that may influence the amount of bugs in a piece of software. In the context of open source projects, it seems plausible that older projects will have more reported bugs---e.g., one would expect a 10 year old project to have more bugs than a 1 month old project.\n"
   ]
  },
  {
   "cell_type": "markdown",
   "id": "b52d002a-ee69-4129-907f-e54ed632bd71",
   "metadata": {},
   "source": [
    "## Data\n",
    "\n",
    "The dataset contains $N=1127$ records of fragments of GitHub projects that are written in different programming languages. The dataset is in the file [dataset.csv](dataset.csv). Click the link to get an idea about the content and the structure of the file. The variables in the dataset are divided into predictors and predicted variable as follows:\n",
    "\n",
    "Predictors:\n",
    "* Language (L): the used programming language\n",
    "* Commits (C): the total number of commits in the project\n",
    "* Insertions (I): the total number of inserted lines in all commits\n",
    "* Age (A): the time passed since the oldest recorded commit in the project\n",
    "* Devs (D): the total number of users committing code to the project\n",
    "* Project type (T): the type of project, e.g., application, library, framework, ...\n",
    "\n",
    "Predicted variable:\n",
    "* Bugs (B): the number of commits classified as \"bugs\""
   ]
  },
  {
   "cell_type": "markdown",
   "id": "aa2c25e8-11d2-4aa3-929e-e9f09731b2b5",
   "metadata": {
    "tags": []
   },
   "source": [
    "## Research questions\n",
    "\n",
    "As mentioned above, we are interested in understanding whether the programming language in which a program is written (as well as other factors) impacts the number of bugs in the project. To this end, you must investigate the validity of the following hypotheses:\n",
    "    \n",
    "* **H1** - Haskell code is less prone to contain bugs (B). In other words, the distribution on the number of bugs (B) for Haskell gives high probability to the lowest number of bugs among all programming languages (L).\n",
    "    \n",
    "* **H2** - Age (A) has a positive impact on number of bugs (B) for all programming languages (L). That is, projects of old age (A) have larger number of bugs (B). \n",
    "    \n",
    "* **H3** - Number of commits (C) does not impact the effect of age (A) on the number of bugs (B) for any programming language (L). That is, the effect of age (A), conditioned on number of commits (C), on number of bugs (B) is the same as the direct effect of age (A) on number of bugs (B)."
   ]
  },
  {
   "cell_type": "markdown",
   "id": "273329e1-5e0a-4e87-a9a5-c8b38a892889",
   "metadata": {},
   "source": [
    "Your task is to use Bayesian Inference and Regression to decide whether these hypotheses hold, or possibly reject them. This includes:\n",
    "\n",
    "* Loading, restructuring and transforming the data as needed.\n",
    "\n",
    "* Designing Bayesian regression models and using the inference algorithms to test the above hypotheses in PyMC.\n",
    "\n",
    "* Explaining your model idea in English, preferably using a figure, and showing the Python code.\n",
    "\n",
    "* Checking and reflecting (in writing) on the quality of the sampling process, considering warnings from the tool, sampling summary statistics, trace plots, and autocorrelation plots. Comment whether the quality is good, and whether you had to make any adjustments during the modeling.\n",
    "\n",
    "* Visualizing the posterior information appropriately to address the two hypotheses.\n",
    "  \n",
    "\n",
    "You should hand in a zip file with a Jupyter notebook and the data file (so that we can run it), and a **PDF file rendering of the jupyter notebook**, so that your work can be assessed just by reading this file. The PDF file should include all the plots and results. Make sure the notebook is actually a **report** readable to the examiners, especially to the censor, who has not been following the course. The report should contain a brief introduction, an efficient explanation of how data is loaded and cleaned, an analysis of the model design, a discussion of sampling quality, the posterior plots, and decision outcome for each hypothesis. It should end with an overall conclusion.  \n",
    "\n",
    "It appears that the best PDF rendering is obtained by File / Export to HTML, and then saving/printing to PDF from your browser."
   ]
  },
  {
   "cell_type": "markdown",
   "id": "1d9fc2a1-5210-417a-a1cd-08daf9ed5823",
   "metadata": {},
   "source": [
    "*IMPORTANT:* For each of the tasks below, your code must accompany an explanation of its meaning and intended purpose. **Source code alone is not self-explanatory**. You should also reflect on the results you get, e.g., highlighting issues with the data, or issues, pitfalls and assumptions of a model. **Exams containing only source code or very scarce explanations will result in low grades, including failing grades.**\n",
    "\n",
    "## Minimum requirements \n",
    "\n",
    "1. Design a regression model to predict number of bugs (B) using language (L) as a predictor.\n",
    "  \n",
    "2. Analyze hypothesis H1 using the regression model in (1.).\n",
    "\n",
    "## Ideas for extension\n",
    "\n",
    "**Groups aiming at grade 7 and more should complete the following tasks:**\n",
    "    \n",
    "3. Analyze hypothesis H2, if necessary design a new model.\n",
    "        \n",
    "4. Perform prior predictive checks in all your models. Explain why the priors you selected are appropriate.\n",
    "    \n",
    "5. Perform posterior predictive checks in all your models. Discuss the results in the posterior predictive checks.\n",
    "    \n",
    "6. Discuss trace convergence in all your models.\n",
    "    \n",
    "**Groups aiming at grade 10 and higher should try 3-5 ideas from below or add some of your own:**\n",
    "\n",
    "7. Analyze hypothesis H3, if necessary design a new model.\n",
    "    \n",
    "8. Perform a counterfactual analysis in your model for H3: For each project, plot posterior predictions on the number of bugs for increasing age and assuming for that projects have 2000 commits. You may extend this task to varying number of commits.\n",
    "    \n",
    "9. Consider mixture models for analyzing the hypotheses above. Explain why the mixture models you evaluate are appropriate in the context of this analysis.\n",
    "    \n",
    "10. Design models that treat/transform the outcome variable (number of bugs) as a real value. Analyze the hypotheses above with the new model. Explain whether the result of this analysis differs from the one for the models you used in (1.), (2.) and (3.). Alternatively, use a binomial model to predict a probability that a commit is a bug.\n",
    "    \n",
    "11. Use information criteria to compare the models to analyze H1, H2 and H3.\n",
    "    \n",
    "12. Design a meaningful multilevel model in the context of these data.\n",
    "    \n",
    "13. Pose and analyze a new hypothesis involving more predictors than those in H1, H2 and H3.\n",
    "   \n",
    "14. Use causal reasoning to analyze causal relations between the variables in the dataset."
   ]
  },
  {
   "cell_type": "markdown",
   "id": "4d25e2ab-c97d-42b5-914d-c0c7b5f90a22",
   "metadata": {},
   "source": [
    "This is an open exam, and **the above directions of thinking are mostly to inspire you**.  Treat the task as a project.  The list above is indicative and will not be strictly followed when grading. You can land lower if the extensions are not realized well. You can land higher if you have other interesting ideas yourself (than those listed here). You are encouraged to add your ideas instead (based on the course material)."
   ]
  },
  {
   "cell_type": "markdown",
   "id": "4f2481e7-ea29-44df-9644-d81197ae4e53",
   "metadata": {},
   "source": [
    "**The solutions to the exam must be made solely by the members of the group**. You are not allowed to discuss exam solutions with other classmates, posting questions in internet fora, or the like. You\n",
    "are allowed to ask for clarification of possible mistakes, misprints, and so on, by private email to `raup@itu.dk` and `wasowski@itu.dk` with a CC to `mflh@itu.dk` (Exam coordinator).\n",
    "\n",
    "**Your solution must contain the following declaration:**\n",
    "\n",
    "    We hereby declare that we have answered these exam questions ourselves without any outside help."
   ]
  },
  {
   "cell_type": "markdown",
   "id": "8b22a3af-079d-46de-a897-640f42e2c3aa",
   "metadata": {},
   "source": [
    "---"
   ]
  },
  {
   "cell_type": "code",
   "execution_count": null,
   "id": "4f55a628-feb1-44ac-9652-852164695055",
   "metadata": {},
   "outputs": [],
   "source": [
    "import numpy as np\n",
    "import pandas as pd\n",
    "import arviz as az\n",
    "import pymc as pm\n",
    "import matplotlib.pyplot as plt"
   ]
  },
  {
   "cell_type": "code",
   "execution_count": null,
   "id": "d704dbc6-648a-47bb-a8c5-f79a3f1b8106",
   "metadata": {},
   "outputs": [],
   "source": [
    "df = pd.read_csv('dataset.csv')"
   ]
  },
  {
   "cell_type": "code",
   "execution_count": null,
   "id": "8df51f6a-a1ea-4c2f-add7-d80d236d8d22",
   "metadata": {},
   "outputs": [],
   "source": [
    "df"
   ]
  }
 ],
 "metadata": {
  "kernelspec": {
   "display_name": "prpro-2024",
   "language": "python",
   "name": "prpro-2024"
  },
  "language_info": {
   "codemirror_mode": {
    "name": "ipython",
    "version": 3
   },
   "file_extension": ".py",
   "mimetype": "text/x-python",
   "name": "python",
   "nbconvert_exporter": "python",
   "pygments_lexer": "ipython3",
   "version": "3.11.7"
  }
 },
 "nbformat": 4,
 "nbformat_minor": 5
}
